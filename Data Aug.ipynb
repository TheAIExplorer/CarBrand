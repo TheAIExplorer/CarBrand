{
 "cells": [
  {
   "cell_type": "code",
   "execution_count": null,
   "id": "b2b78f45-e73c-4558-9ce4-2a143401b1b5",
   "metadata": {},
   "outputs": [],
   "source": [
    "import os\n",
    "import cv2\n",
    "import pandas as pd\n",
    "import numpy as np\n",
    "\n",
    "\n",
    "source_folder = r'C:\\Users\\haris\\AI\\ML\\Projects\\Data\\Cars Dataset - Copy\\train'\n",
    "\n",
    "data = {\n",
    "    'count': [814, 271, 316, 311, 424, 441, 775],\n",
    "    'class': ['Audi', 'Hyundai Creta', 'Mahindra Scorpio', 'Rolls Royce', 'Swift', 'Tata Safari', 'Toyota Innova']\n",
    "}\n",
    "\n",
    "df = pd.DataFrame(data)\n",
    "\n",
    "majority_class = df.loc[df['count'].idxmax()]['class']\n",
    "majority_count = df.loc[df['count'].idxmax()]['count']\n",
    "\n",
    "desired_total_images = 2000\n",
    "\n",
    "for index, row in df.iterrows():\n",
    "    source_class_folder = os.path.join(source_folder, row['class'])\n",
    "    image_files = os.listdir(source_class_folder)\n",
    "\n",
    "    current_count = len(image_files)\n",
    "\n",
    "    images_to_generate = desired_total_images - current_count\n",
    "\n",
    "    for i in range(images_to_generate):\n",
    "        random_image_filename = np.random.choice(image_files)\n",
    "        random_image_path = os.path.join(source_class_folder, random_image_filename)\n",
    "\n",
    "        random_image = cv2.imread(random_image_path)\n",
    "        \n",
    "        h, w, _ = random_image.shape\n",
    "        x = 0 if w <= 224 else np.random.randint(0, w - 224)\n",
    "        y = 0 if h <= 224 else np.random.randint(0, h - 224)\n",
    "        cropped_image = random_image[y:y+224, x:x+224]\n",
    "\n",
    "        output_path = os.path.join(source_class_folder, f'{row[\"class\"]}_{current_count + i}.jpg')\n",
    "        cv2.imwrite(output_path, cropped_image)\n",
    "\n",
    "    print(f\"Generated {images_to_generate} augmented images for {row['class']}\")\n",
    "\n",
    "print(\"Data augmentation completed.\")\n"
   ]
  }
 ],
 "metadata": {
  "kernelspec": {
   "display_name": "Python 3.10 (tensorflow-gpu)",
   "language": "python",
   "name": "tensorflow-gpu"
  },
  "language_info": {
   "codemirror_mode": {
    "name": "ipython",
    "version": 3
   },
   "file_extension": ".py",
   "mimetype": "text/x-python",
   "name": "python",
   "nbconvert_exporter": "python",
   "pygments_lexer": "ipython3",
   "version": "3.10.12"
  }
 },
 "nbformat": 4,
 "nbformat_minor": 5
}

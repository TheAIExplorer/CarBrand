{
 "cells": [
  {
   "cell_type": "code",
   "execution_count": 9,
   "id": "9fafbde8-d270-4d36-8bf8-44b6a68a8ede",
   "metadata": {
    "tags": []
   },
   "outputs": [],
   "source": [
    "import tensorflow as tf\n",
    "import numpy as np\n",
    "import os\n",
    "import cv2\n",
    "import matplotlib.pyplot as plt\n",
    "from tensorflow import keras\n",
    "from tensorflow.keras.models import Model, Sequential\n",
    "from tensorflow.keras.layers import Dense, Flatten, Dropout, BatchNormalization, GlobalAveragePooling2D\n",
    "from tensorflow.keras.callbacks import Earlystopping, ReduceLROnplateau"
   ]
  },
  {
   "cell_type": "code",
   "execution_count": null,
   "id": "b48f7529-c77e-43a6-8d7b-094953f59f60",
   "metadata": {},
   "outputs": [],
   "source": [
    "Data_folder= r'C:\\Users\\haris\\AI\\ML\\Projects\\Data\\Cars Dataset'"
   ]
  }
 ],
 "metadata": {
  "kernelspec": {
   "display_name": "Python 3.10 (tensorflow-gpu)",
   "language": "python",
   "name": "tensorflow-gpu"
  },
  "language_info": {
   "codemirror_mode": {
    "name": "ipython",
    "version": 3
   },
   "file_extension": ".py",
   "mimetype": "text/x-python",
   "name": "python",
   "nbconvert_exporter": "python",
   "pygments_lexer": "ipython3",
   "version": "3.10.12"
  }
 },
 "nbformat": 4,
 "nbformat_minor": 5
}

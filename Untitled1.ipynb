{
 "cells": [
  {
   "cell_type": "code",
   "execution_count": 1,
   "id": "89b258ed-545d-405b-a813-ac322acdbf90",
   "metadata": {
    "tags": []
   },
   "outputs": [
    {
     "name": "stdout",
     "output_type": "stream",
     "text": [
      "Generated 0 augmented images with Gaussian noise for Audi\n",
      "Generated 543 augmented images with Gaussian noise for Hyundai Creta\n",
      "Generated 498 augmented images with Gaussian noise for Mahindra Scorpio\n",
      "Generated 503 augmented images with Gaussian noise for Rolls Royce\n",
      "Generated 390 augmented images with Gaussian noise for Swift\n",
      "Generated 373 augmented images with Gaussian noise for Tata Safari\n",
      "Generated 39 augmented images with Gaussian noise for Toyota Innova\n",
      "Data augmentation completed.\n"
     ]
    }
   ],
   "source": [
    "import os\n",
    "import cv2\n",
    "import pandas as pd\n",
    "import numpy as np\n",
    "\n",
    "# Define your source folder\n",
    "source_folder = r'C:\\Users\\haris\\AI\\ML\\Projects\\Data\\Cars Dataset - Copy\\train'\n",
    "\n",
    "# Load your dataset into a pandas DataFrame\n",
    "data = {\n",
    "    'count': [814, 271, 316, 311, 424, 441, 775],\n",
    "    'class': ['Audi', 'Hyundai Creta', 'Mahindra Scorpio', 'Rolls Royce', 'Swift', 'Tata Safari', 'Toyota Innova']\n",
    "}\n",
    "\n",
    "df = pd.DataFrame(data)\n",
    "\n",
    "# Find the class with the maximum count\n",
    "majority_class = df.loc[df['count'].idxmax()]['class']\n",
    "majority_count = df.loc[df['count'].idxmax()]['count']\n",
    "\n",
    "# Loop through each class and augment the data\n",
    "for index, row in df.iterrows():\n",
    "    # Get the list of images in the source folder for the current class\n",
    "    source_class_folder = os.path.join(source_folder, row['class'])\n",
    "    image_files = os.listdir(source_class_folder)\n",
    "\n",
    "    # Calculate how many images to generate to reach the majority count\n",
    "    images_to_generate = majority_count - row['count']\n",
    "\n",
    "    # Loop to generate and save augmented images\n",
    "    for i in range(images_to_generate):\n",
    "        # Choose a random image from the source folder\n",
    "        random_image_filename = np.random.choice(image_files)\n",
    "        random_image_path = os.path.join(source_class_folder, random_image_filename)\n",
    "\n",
    "        # Read the random image\n",
    "        random_image = cv2.imread(random_image_path)\n",
    "\n",
    "        # Apply Gaussian noise as data augmentation\n",
    "        # You can adjust the mean and standard deviation based on your preference\n",
    "        mean = 0\n",
    "        std_dev = 25\n",
    "        noise = np.random.normal(mean, std_dev, random_image.shape).astype(np.uint8)\n",
    "        noisy_image = cv2.add(random_image, noise)\n",
    "\n",
    "        # Save the augmented image in the same source folder\n",
    "        output_path = os.path.join(source_class_folder, f'{row[\"class\"]}_gaussian_noise_{i}.jpg')\n",
    "        cv2.imwrite(output_path, noisy_image)\n",
    "\n",
    "    print(f\"Generated {images_to_generate} augmented images with Gaussian noise for {row['class']}\")\n",
    "\n",
    "print(\"Data augmentation completed.\")\n"
   ]
  },
  {
   "cell_type": "code",
   "execution_count": null,
   "id": "5fb5da26-9c59-4f7a-aafc-5ecb87692e1f",
   "metadata": {},
   "outputs": [],
   "source": []
  }
 ],
 "metadata": {
  "kernelspec": {
   "display_name": "Python 3.10 (tensorflow-gpu)",
   "language": "python",
   "name": "tensorflow-gpu"
  },
  "language_info": {
   "codemirror_mode": {
    "name": "ipython",
    "version": 3
   },
   "file_extension": ".py",
   "mimetype": "text/x-python",
   "name": "python",
   "nbconvert_exporter": "python",
   "pygments_lexer": "ipython3",
   "version": "3.10.12"
  }
 },
 "nbformat": 4,
 "nbformat_minor": 5
}

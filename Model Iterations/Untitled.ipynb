{
 "cells": [
  {
   "cell_type": "code",
   "execution_count": 3,
   "id": "8ecd4090-1a2e-478b-a14e-1034640974bc",
   "metadata": {
    "tags": []
   },
   "outputs": [
    {
     "name": "stdout",
     "output_type": "stream",
     "text": [
      "Generated 1186 augmented images for Audi\n",
      "Generated 1729 augmented images for Hyundai Creta\n",
      "Generated 1684 augmented images for Mahindra Scorpio\n",
      "Generated 1689 augmented images for Rolls Royce\n",
      "Generated 1576 augmented images for Swift\n",
      "Generated 1559 augmented images for Tata Safari\n",
      "Generated 1225 augmented images for Toyota Innova\n",
      "Data augmentation completed.\n"
     ]
    }
   ],
   "source": [
    "import os\n",
    "import cv2\n",
    "import pandas as pd\n",
    "import numpy as np\n",
    "\n",
    "# Define your source folder\n",
    "source_folder = r'C:\\Users\\haris\\AI\\ML\\Projects\\Data\\Cars Dataset - Copy\\train'\n",
    "\n",
    "# Load your dataset into a pandas DataFrame\n",
    "data = {\n",
    "    'count': [814, 271, 316, 311, 424, 441, 775],\n",
    "    'class': ['Audi', 'Hyundai Creta', 'Mahindra Scorpio', 'Rolls Royce', 'Swift', 'Tata Safari', 'Toyota Innova']\n",
    "}\n",
    "\n",
    "df = pd.DataFrame(data)\n",
    "\n",
    "# Find the class with the maximum count\n",
    "majority_class = df.loc[df['count'].idxmax()]['class']\n",
    "majority_count = df.loc[df['count'].idxmax()]['count']\n",
    "\n",
    "# Set the desired total number of images for each class (2000)\n",
    "desired_total_images = 2000\n",
    "\n",
    "# Loop through each class and augment the data\n",
    "for index, row in df.iterrows():\n",
    "    # Get the list of images in the source folder for the current class\n",
    "    source_class_folder = os.path.join(source_folder, row['class'])\n",
    "    image_files = os.listdir(source_class_folder)\n",
    "\n",
    "    # Calculate how many images are currently available for the class\n",
    "    current_count = len(image_files)\n",
    "\n",
    "    # Calculate how many images are needed to reach the desired total\n",
    "    images_to_generate = desired_total_images - current_count\n",
    "\n",
    "    # Loop to generate and save augmented images until the desired total is reached\n",
    "    for i in range(images_to_generate):\n",
    "        # Choose a random image from the source folder\n",
    "        random_image_filename = np.random.choice(image_files)\n",
    "        random_image_path = os.path.join(source_class_folder, random_image_filename)\n",
    "\n",
    "        # Read the random image\n",
    "        random_image = cv2.imread(random_image_path)\n",
    "\n",
    "        # Apply cropping or any other augmentation as needed\n",
    "        # Here, we are cropping the image randomly as an example\n",
    "        h, w, _ = random_image.shape\n",
    "        x = 0 if w <= 224 else np.random.randint(0, w - 224)\n",
    "        y = 0 if h <= 224 else np.random.randint(0, h - 224)\n",
    "        cropped_image = random_image[y:y+224, x:x+224]\n",
    "\n",
    "        # Save the augmented image in the same source folder\n",
    "        output_path = os.path.join(source_class_folder, f'{row[\"class\"]}_{current_count + i}.jpg')\n",
    "        cv2.imwrite(output_path, cropped_image)\n",
    "\n",
    "    print(f\"Generated {images_to_generate} augmented images for {row['class']}\")\n",
    "\n",
    "print(\"Data augmentation completed.\")\n"
   ]
  },
  {
   "cell_type": "code",
   "execution_count": null,
   "id": "4752d763-28a0-4259-a8ed-5ca0f7fccb00",
   "metadata": {},
   "outputs": [],
   "source": []
  }
 ],
 "metadata": {
  "kernelspec": {
   "display_name": "Python 3.10 (tensorflow-gpu)",
   "language": "python",
   "name": "tensorflow-gpu"
  },
  "language_info": {
   "codemirror_mode": {
    "name": "ipython",
    "version": 3
   },
   "file_extension": ".py",
   "mimetype": "text/x-python",
   "name": "python",
   "nbconvert_exporter": "python",
   "pygments_lexer": "ipython3",
   "version": "3.10.12"
  }
 },
 "nbformat": 4,
 "nbformat_minor": 5
}

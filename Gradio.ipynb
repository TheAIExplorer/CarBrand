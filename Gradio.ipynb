{
 "cells": [
  {
   "cell_type": "code",
   "execution_count": 8,
   "id": "c12b588f-e3f0-4b13-a2b2-f8957e1d4ea7",
   "metadata": {
    "tags": []
   },
   "outputs": [
    {
     "name": "stdout",
     "output_type": "stream",
     "text": [
      "Running on local URL:  http://127.0.0.1:7871\n",
      "\n",
      "To create a public link, set `share=True` in `launch()`.\n"
     ]
    },
    {
     "data": {
      "text/html": [
       "<div><iframe src=\"http://127.0.0.1:7871/\" width=\"100%\" height=\"500\" allow=\"autoplay; camera; microphone; clipboard-read; clipboard-write;\" frameborder=\"0\" allowfullscreen></iframe></div>"
      ],
      "text/plain": [
       "<IPython.core.display.HTML object>"
      ]
     },
     "metadata": {},
     "output_type": "display_data"
    },
    {
     "data": {
      "text/plain": []
     },
     "execution_count": 8,
     "metadata": {},
     "output_type": "execute_result"
    }
   ],
   "source": [
    "import os\n",
    "import gradio as gr\n",
    "import numpy as np\n",
    "import tensorflow as tf\n",
    "from tensorflow.keras.preprocessing.image import load_img, img_to_array\n",
    "from tensorflow.keras.models import load_model\n",
    "import cv2\n",
    "\n",
    "model_path = \"car_classification_model.h5\"\n",
    "best_model = load_model(model_path)\n",
    "\n",
    "class_labels = ['Audi', 'Hyundai Creta', 'Mahindra Scorpio', 'Rolls Royce', 'Swift', 'Tata Safari', 'Toyota Innova']\n",
    "\n",
    "@tf.function\n",
    "def predict_image(image_array):\n",
    "    prediction = best_model(image_array)\n",
    "    class_index = tf.argmax(prediction, axis=1)\n",
    "    predicted_class = tf.gather(class_labels, class_index)\n",
    "    return predicted_class\n",
    "\n",
    "def Predict_Car_Brand(image_upload):\n",
    "    image_array = np.array(image_upload)\n",
    "    \n",
    "    image_resized = cv2.resize(image_array, (224, 224))\n",
    "    \n",
    "    img_array = img_to_array(image_resized)\n",
    "    img_array = np.expand_dims(img_array, axis=0)\n",
    "    img_array /= 255.0 \n",
    "\n",
    "    image_tensor = tf.convert_to_tensor(img_array, dtype=tf.float32)\n",
    "    \n",
    "    predicted_brand = predict_image(image_tensor)\n",
    "    label = predicted_brand.numpy()[0].decode()\n",
    "    return label\n",
    "\n",
    "demo = gr.Interface(\n",
    "    Predict_Car_Brand, \n",
    "    inputs = \"image\",\n",
    "    outputs=\"text\",\n",
    "    title = \"Car Brand Predictor\",\n",
    "    description=\"Upload an image of your Car to predict its brand. (Audi, Hyundai Creta, Mahindra Scorpio, Rolls Royce, Swift, Tata Safari or Toyota Innova )\",\n",
    "    cache_examples=True,\n",
    "    theme=\"default\",\n",
    "    allow_flagging=\"manual\",\n",
    "    flagging_options=[\"Flag as incorrect\", \"Flag as inaccurate\"],\n",
    "    analytics_enabled=True,\n",
    "    batch=False,\n",
    "    max_batch_size=4,\n",
    "    allow_duplication=False\n",
    ")\n",
    "\n",
    "demo.launch()\n",
    "\n"
   ]
  },
  {
   "cell_type": "code",
   "execution_count": null,
   "id": "82551d6b-830a-48ec-abc0-468a0d3b0403",
   "metadata": {},
   "outputs": [],
   "source": []
  }
 ],
 "metadata": {
  "kernelspec": {
   "display_name": "Python 3.10 (tensorflow-gpu)",
   "language": "python",
   "name": "tensorflow-gpu"
  },
  "language_info": {
   "codemirror_mode": {
    "name": "ipython",
    "version": 3
   },
   "file_extension": ".py",
   "mimetype": "text/x-python",
   "name": "python",
   "nbconvert_exporter": "python",
   "pygments_lexer": "ipython3",
   "version": "3.10.12"
  }
 },
 "nbformat": 4,
 "nbformat_minor": 5
}

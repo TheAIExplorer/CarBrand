{
 "cells": [
  {
   "cell_type": "code",
   "execution_count": 1,
   "id": "9fafbde8-d270-4d36-8bf8-44b6a68a8ede",
   "metadata": {
    "tags": []
   },
   "outputs": [],
   "source": [
    "import os\n",
    "import numpy as np\n",
    "from tensorflow.keras.applications import MobileNetV2\n",
    "from tensorflow.keras.layers import Dense, GlobalAveragePooling2D, Dropout,BatchNormalization\n",
    "from tensorflow.keras.models import Model\n",
    "from tensorflow.keras.optimizers import Adam\n",
    "from tensorflow.keras.preprocessing.image import load_img, img_to_array\n",
    "from tensorflow.keras.utils import to_categorical\n",
    "import matplotlib.pyplot as plt\n",
    "from sklearn.model_selection import train_test_split\n",
    "from sklearn.metrics import confusion_matrix, classification_report\n",
    "import pandas as pd\n",
    "from tensorflow.keras.callbacks import EarlyStopping"
   ]
  },
  {
   "cell_type": "code",
   "execution_count": 2,
   "id": "b48f7529-c77e-43a6-8d7b-094953f59f60",
   "metadata": {
    "tags": []
   },
   "outputs": [],
   "source": [
    "data_dir = r'C:\\Users\\haris\\AI\\ML\\Projects\\Data\\Cars Dataset'\n",
    "\n",
    "img_size = (224, 224)\n",
    "batch_size = 32\n",
    "\n",
    "def load_and_preprocess_data(subdir_name):\n",
    "    images = []\n",
    "    labels = []\n",
    "    \n",
    "    class_counts = {}\n",
    "\n",
    "    class_folders = os.listdir(os.path.join(data_dir, subdir_name))\n",
    "    num_classes = len(class_folders)\n",
    "\n",
    "    for class_index, class_folder in enumerate(class_folders):\n",
    "        class_path = os.path.join(data_dir, subdir_name, class_folder)\n",
    "        num_samples = len(os.listdir(class_path))\n",
    "        class_counts[class_folder] = num_samples\n",
    "\n",
    "        for image_file in os.listdir(class_path):\n",
    "            image_path = os.path.join(class_path, image_file)\n",
    "            img = load_img(image_path, target_size=img_size)\n",
    "            img_array = img_to_array(img)\n",
    "            img_array /= 255.0\n",
    "            images.append(img_array)\n",
    "            labels.append(class_index)\n",
    "    images = np.array(images)\n",
    "    labels = to_categorical(labels, num_classes=num_classes)\n",
    "\n",
    "    print(\"Class Representation:\")\n",
    "    for class_name, count in class_counts.items():\n",
    "        print(f\"{class_name}: {count} samples\")\n",
    "\n",
    "    return images, labels, num_classes"
   ]
  },
  {
   "cell_type": "code",
   "execution_count": null,
   "id": "af6740ef-0a13-4da2-be2c-5e32a1e51cc7",
   "metadata": {
    "tags": []
   },
   "outputs": [
    {
     "name": "stdout",
     "output_type": "stream",
     "text": [
      "Class Representation:\n",
      "Audi: 814 samples\n",
      "Hyundai Creta: 271 samples\n",
      "Mahindra Scorpio: 316 samples\n",
      "Rolls Royce: 311 samples\n",
      "Swift: 424 samples\n",
      "Tata Safari: 441 samples\n",
      "Toyota Innova: 775 samples\n",
      "WARNING:tensorflow:`input_shape` is undefined or non-square, or `rows` is not in [96, 128, 160, 192, 224]. Weights for input shape (224, 224) will be loaded as the default.\n",
      "Epoch 1/10\n"
     ]
    }
   ],
   "source": [
    "images, labels, num_classes = load_and_preprocess_data('train')\n",
    "train_images, valid_images, train_labels, valid_labels = train_test_split(images, labels, test_size=0.2, random_state=42)\n",
    "\n",
    "base_model = MobileNetV2(weights='imagenet', include_top=False)\n",
    "\n",
    "x = base_model.output\n",
    "x = GlobalAveragePooling2D()(x)\n",
    "x = Dense(1024, activation='relu')(x)\n",
    "predictions = Dense(num_classes, activation='softmax')(x)\n",
    "\n",
    "model = Model(inputs=base_model.input, outputs=predictions)\n",
    "\n",
    "for layer in base_model.layers:\n",
    "    layer.trainable = False\n",
    "\n",
    "model.compile(optimizer=Adam(learning_rate=0.001), loss='categorical_crossentropy', metrics=['accuracy'])\n",
    "\n",
    "early_stopping = EarlyStopping(monitor=\"val_accuracy\",patience  = 5,verbose=1,min_delta = 0.01,restore_best_weights=True)\n",
    "\n",
    "history = model.fit(\n",
    "    train_images,\n",
    "    train_labels,\n",
    "    validation_data=(valid_images, valid_labels),\n",
    "    batch_size=batch_size,\n",
    "    epochs=20,\n",
    "    callbacks=[early_stopping]\n",
    ")\n"
   ]
  },
  {
   "cell_type": "code",
   "execution_count": null,
   "id": "04c6cf05-3649-4090-8f37-2dacf146b38b",
   "metadata": {},
   "outputs": [],
   "source": [
    "plt.figure(figsize=(10, 5))\n",
    "plt.plot(history.history['accuracy'], label='Train Accuracy')  \n",
    "plt.plot(history.history['val_accuracy'], label='Validation Accuracy')\n",
    "plt.xlabel('Epochs')\n",
    "plt.ylabel('Accuracy')\n",
    "plt.legend()\n",
    "plt.show()\n",
    "\n",
    "plt.figure(figsize=(10, 5))\n",
    "plt.plot(history.history['loss'], label='Train Loss')\n",
    "plt.plot(history.history['val_loss'], label='Validation Loss')\n",
    "plt.xlabel('Epochs')\n",
    "plt.ylabel('Loss')\n",
    "plt.legend()\n",
    "plt.show()"
   ]
  },
  {
   "cell_type": "code",
   "execution_count": null,
   "id": "8425fee7-0a9e-45ae-a3d4-c5913fae97ca",
   "metadata": {
    "tags": []
   },
   "outputs": [],
   "source": [
    "# Load the test data\n",
    "test_images, test_labels, num_classes = load_and_preprocess_data('test')\n",
    "\n",
    "# Evaluate the model on the test data\n",
    "test_loss, test_accuracy = model.evaluate(test_images, test_labels)\n",
    "print(f\"Test Loss: {test_loss}\")\n",
    "print(f\"Test Accuracy: {test_accuracy}\")\n",
    "\n",
    "# Make predictions on the test data\n",
    "test_predictions = model.predict(test_images)\n",
    "test_predictions_classes = np.argmax(test_predictions, axis=1)\n",
    "true_classes = np.argmax(test_labels, axis=1)\n",
    "\n",
    "# Calculate the confusion matrix\n",
    "arr = confusion_matrix(true_classes, test_predictions_classes)\n",
    "\n",
    "# Print the classification report\n",
    "class_names = [str(i) for i in range(num_classes)]  # Use numeric class labels for the test dataset\n",
    "classification_rep = classification_report(true_classes, test_predictions_classes, target_names=class_names)\n",
    "print(\"Classification Report:\\n\", classification_rep)\n"
   ]
  },
  {
   "cell_type": "code",
   "execution_count": null,
   "id": "529dadeb-b767-4263-9cb4-beae601cabfb",
   "metadata": {},
   "outputs": [],
   "source": [
    "import seaborn as sn\n",
    "df_cm = pd.DataFrame(arr, range(7), range(7))\n",
    "sn.heatmap(df_cm, annot=True,fmt=\"d\", cmap=\"YlGnBu\") "
   ]
  },
  {
   "cell_type": "code",
   "execution_count": null,
   "id": "adbf791d-609e-4a0e-8565-a5fb7736d23c",
   "metadata": {
    "tags": []
   },
   "outputs": [],
   "source": [
    "# Create a DataFrame from the classification report\n",
    "classification_dict = classification_report(true_classes, test_predictions_classes, target_names=class_names, output_dict=True)\n",
    "classification_df = pd.DataFrame(classification_dict).transpose()\n",
    "\n",
    "# Save the DataFrame as an Excel file\n",
    "excel_path = os.path.join(r'C:\\Users\\haris\\AI\\ML\\Projects\\Data\\Cars Dataset', 'classification_report.xlsx')\n",
    "classification_df.to_excel(excel_path, index=True)\n",
    "\n",
    "print(f\"Classification report saved as Excel to {excel_path}\")"
   ]
  },
  {
   "cell_type": "code",
   "execution_count": null,
   "id": "85d84572-d4b4-41ed-bb4b-0e9c437825f6",
   "metadata": {
    "tags": []
   },
   "outputs": [],
   "source": [
    "model.summary()"
   ]
  },
  {
   "cell_type": "code",
   "execution_count": null,
   "id": "d914c3f2-8da5-4706-9e4e-289dc2e93849",
   "metadata": {},
   "outputs": [],
   "source": []
  }
 ],
 "metadata": {
  "kernelspec": {
   "display_name": "Python 3.10 (tensorflow-gpu)",
   "language": "python",
   "name": "tensorflow-gpu"
  },
  "language_info": {
   "codemirror_mode": {
    "name": "ipython",
    "version": 3
   },
   "file_extension": ".py",
   "mimetype": "text/x-python",
   "name": "python",
   "nbconvert_exporter": "python",
   "pygments_lexer": "ipython3",
   "version": "3.10.12"
  }
 },
 "nbformat": 4,
 "nbformat_minor": 5
}
